{
 "cells": [
  {
   "cell_type": "code",
   "execution_count": 4,
   "metadata": {},
   "outputs": [],
   "source": [
    "from datasets import load_dataset\n",
    "import torch\n",
    "import torch.nn as nn\n",
    "import numpy as np\n",
    "import random\n"
   ]
  },
  {
   "cell_type": "code",
   "execution_count": 5,
   "metadata": {},
   "outputs": [],
   "source": [
    "# Load the dataset\n",
    "dataset = load_dataset(\"roneneldan/TinyStories\")\n",
    "\n",
    "# Select a small subset of the dataset\n",
    "num_samples = 25000 # Specify the number of samples you want to use\n",
    "texts = dataset['train']['text'][:num_samples]\n",
    "\n",
    "# Concatenate all texts into a single string\n",
    "text = ' '.join(texts)\n",
    "\n",
    "# Create a character vocabulary\n",
    "chars = sorted(list(set(text)))\n",
    "vocab_size = len(chars)\n",
    "char_to_idx = {ch: i for i, ch in enumerate(chars)}\n",
    "idx_to_char = {i: ch for i, ch in enumerate(chars)}\n",
    "\n",
    "# Encode text as integer sequences\n",
    "encoded_text = np.array([char_to_idx[ch] for ch in text])"
   ]
  },
  {
   "cell_type": "code",
   "execution_count": 6,
   "metadata": {},
   "outputs": [],
   "source": [
    "class CharRNN(nn.Module):\n",
    "    def __init__(self, vocab_size, hidden_size, num_layers):\n",
    "        super(CharRNN, self).__init__()\n",
    "        self.hidden_size = hidden_size\n",
    "        self.num_layers = num_layers\n",
    "        self.embedding = nn.Embedding(vocab_size, hidden_size)\n",
    "        self.lstm = nn.LSTM(hidden_size, hidden_size, num_layers, batch_first=True)\n",
    "        self.fc = nn.Linear(hidden_size, vocab_size)\n",
    "\n",
    "    def forward(self, x, hidden):\n",
    "        x = self.embedding(x)\n",
    "        out, hidden = self.lstm(x, hidden)\n",
    "        out = self.fc(out.reshape(out.size(0) * out.size(1), out.size(2)))\n",
    "        return out, hidden\n",
    "\n",
    "    def init_hidden(self, batch_size):\n",
    "        weight = next(self.parameters()).data\n",
    "        hidden = (weight.new(self.num_layers, batch_size, self.hidden_size).zero_(),\n",
    "                  weight.new(self.num_layers, batch_size, self.hidden_size).zero_())\n",
    "        return hidden\n"
   ]
  },
  {
   "cell_type": "code",
   "execution_count": 7,
   "metadata": {},
   "outputs": [],
   "source": [
    "seq_length = 150  # Sequence length\n",
    "batch_size = 64\n",
    "\n",
    "def get_batches(arr, batch_size, seq_length):\n",
    "    num_batches = (len(arr) - 1) // (batch_size * seq_length)\n",
    "    arr = arr[:num_batches * batch_size * seq_length]\n",
    "    arr = arr.reshape((batch_size, -1))\n",
    "    for n in range(0, arr.shape[1], seq_length):\n",
    "        x = arr[:, n:n + seq_length]\n",
    "        y = arr[:, n + 1:n + seq_length + 1]\n",
    "        if x.shape[1] == seq_length and y.shape[1] == seq_length:\n",
    "            yield x, y\n",
    "\n",
    "model = CharRNN(vocab_size, hidden_size=256, num_layers=2)\n",
    "criterion = nn.CrossEntropyLoss()\n",
    "optimizer = torch.optim.Adam(model.parameters(), lr=0.003)\n"
   ]
  },
  {
   "cell_type": "code",
   "execution_count": 8,
   "metadata": {},
   "outputs": [
    {
     "name": "stdout",
     "output_type": "stream",
     "text": [
      "Epoch: 1/10, Loss: 0.9209\n",
      "Epoch: 2/10, Loss: 0.8596\n",
      "Epoch: 3/10, Loss: 0.8255\n",
      "Epoch: 4/10, Loss: 0.8077\n",
      "Epoch: 5/10, Loss: 0.7942\n",
      "Epoch: 6/10, Loss: 0.7863\n",
      "Epoch: 7/10, Loss: 0.7788\n",
      "Epoch: 8/10, Loss: 0.7773\n",
      "Epoch: 9/10, Loss: 0.7705\n",
      "Epoch: 10/10, Loss: 0.7763\n"
     ]
    }
   ],
   "source": [
    "epochs = 10\n",
    "model.train()\n",
    "\n",
    "for epoch in range(epochs):\n",
    "    hidden = model.init_hidden(batch_size)\n",
    "    for x, y in get_batches(encoded_text, batch_size, seq_length):\n",
    "        x = torch.tensor(x, dtype=torch.long)\n",
    "        y = torch.tensor(y, dtype=torch.long)\n",
    "        hidden = tuple([each.data for each in hidden])\n",
    "\n",
    "        model.zero_grad()\n",
    "        output, hidden = model(x, hidden)\n",
    "        loss = criterion(output, y.view(-1))\n",
    "        loss.backward()\n",
    "        optimizer.step()\n",
    "\n",
    "    print(f'Epoch: {epoch + 1}/{epochs}, Loss: {loss.item():.4f}')\n"
   ]
  },
  {
   "cell_type": "code",
   "execution_count": 19,
   "metadata": {},
   "outputs": [
    {
     "name": "stdout",
     "output_type": "stream",
     "text": [
      "rabbit and girls married the house with a lot of fun. The boy looked so confused and a lot of things. But then he remembered to be harmless. \n",
      "\n",
      "However, they played a gate and their girl and the letter was warm.\n",
      "\n",
      "But\n"
     ]
    }
   ],
   "source": [
    "def generate(model, start_str, predict_len=100, temperature=0.8):\n",
    "    model.eval()\n",
    "    hidden = model.init_hidden(1)\n",
    "    start_input = torch.tensor([char_to_idx[ch] for ch in start_str], dtype=torch.long).unsqueeze(0)\n",
    "    predicted = start_str\n",
    "\n",
    "    with torch.no_grad():\n",
    "        for p in range(len(start_str) - 1):\n",
    "            _, hidden = model(start_input[:, p].unsqueeze(0), hidden)\n",
    "        inp = start_input[:, -1]\n",
    "\n",
    "        for _ in range(predict_len):\n",
    "            output, hidden = model(inp.unsqueeze(0), hidden)\n",
    "            output_dist = output.data.view(-1).div(temperature).exp()\n",
    "            top_i = torch.multinomial(output_dist, 1)[0]\n",
    "\n",
    "            predicted_char = idx_to_char[top_i.item()]\n",
    "            predicted += predicted_char\n",
    "            inp = torch.tensor([top_i], dtype=torch.long)\n",
    "\n",
    "    return predicted\n",
    "\n",
    "# Generate text\n",
    "start_string = \"rabbit and girl\"\n",
    "generated_text = generate(model, start_string, predict_len=200)\n",
    "print(generated_text)\n"
   ]
  },
  {
   "cell_type": "code",
   "execution_count": 12,
   "metadata": {},
   "outputs": [],
   "source": [
    "torch.save(model.state_dict(),'storygen.pth')"
   ]
  }
 ],
 "metadata": {
  "kernelspec": {
   "display_name": "Python 3",
   "language": "python",
   "name": "python3"
  },
  "language_info": {
   "codemirror_mode": {
    "name": "ipython",
    "version": 3
   },
   "file_extension": ".py",
   "mimetype": "text/x-python",
   "name": "python",
   "nbconvert_exporter": "python",
   "pygments_lexer": "ipython3",
   "version": "3.11.9"
  }
 },
 "nbformat": 4,
 "nbformat_minor": 2
}
